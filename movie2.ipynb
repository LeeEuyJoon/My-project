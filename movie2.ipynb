{
 "cells": [
  {
   "cell_type": "markdown",
   "metadata": {},
   "source": [
    "# 내가 본 영화의 평점 평균 막대그래프"
   ]
  },
  {
   "cell_type": "code",
   "execution_count": 2,
   "metadata": {},
   "outputs": [],
   "source": [
    "import pandas as pd\n",
    "import matplotlib.pyplot as plt\n",
    "import matplotlib\n",
    "matplotlib.rcParams['font.family'] = 'Malgun Gothic' # window 한글 폰트 설정\n",
    "matplotlib.rcParams['font.size'] = 15 # 글자 크기\n",
    "matplotlib.rcParams['axes.unicode_minus'] = False # 한글 폰트 사용시 마이너스 글자가 꺠지는 현상 해결"
   ]
  },
  {
   "cell_type": "code",
   "execution_count": 3,
   "metadata": {},
   "outputs": [
    {
     "data": {
      "text/html": [
       "<div>\n",
       "<style scoped>\n",
       "    .dataframe tbody tr th:only-of-type {\n",
       "        vertical-align: middle;\n",
       "    }\n",
       "\n",
       "    .dataframe tbody tr th {\n",
       "        vertical-align: top;\n",
       "    }\n",
       "\n",
       "    .dataframe thead th {\n",
       "        text-align: right;\n",
       "    }\n",
       "</style>\n",
       "<table border=\"1\" class=\"dataframe\">\n",
       "  <thead>\n",
       "    <tr style=\"text-align: right;\">\n",
       "      <th></th>\n",
       "      <th>제목</th>\n",
       "      <th>날짜</th>\n",
       "      <th>국가</th>\n",
       "      <th>장르</th>\n",
       "      <th>개봉연도</th>\n",
       "      <th>주연</th>\n",
       "      <th>감독</th>\n",
       "      <th>평점</th>\n",
       "    </tr>\n",
       "    <tr>\n",
       "      <th>번호</th>\n",
       "      <th></th>\n",
       "      <th></th>\n",
       "      <th></th>\n",
       "      <th></th>\n",
       "      <th></th>\n",
       "      <th></th>\n",
       "      <th></th>\n",
       "      <th></th>\n",
       "    </tr>\n",
       "  </thead>\n",
       "  <tbody>\n",
       "    <tr>\n",
       "      <th>1</th>\n",
       "      <td>트루먼쇼</td>\n",
       "      <td>20190327</td>\n",
       "      <td>미국</td>\n",
       "      <td>코미디</td>\n",
       "      <td>1998</td>\n",
       "      <td>짐 캐리</td>\n",
       "      <td>피터 위어</td>\n",
       "      <td>9.3</td>\n",
       "    </tr>\n",
       "    <tr>\n",
       "      <th>2</th>\n",
       "      <td>패신져스</td>\n",
       "      <td>20190330</td>\n",
       "      <td>미국</td>\n",
       "      <td>SF</td>\n",
       "      <td>2017</td>\n",
       "      <td>제니퍼 로렌스\\n크리스 프랫</td>\n",
       "      <td>모튼 틸덤</td>\n",
       "      <td>9.0</td>\n",
       "    </tr>\n",
       "    <tr>\n",
       "      <th>3</th>\n",
       "      <td>라이프</td>\n",
       "      <td>20190411</td>\n",
       "      <td>미국</td>\n",
       "      <td>SF</td>\n",
       "      <td>2017</td>\n",
       "      <td>제이크 질렌할\\n레베카 퍼거슨\\n라이언 레이놀즈</td>\n",
       "      <td>다니엘 에스피노사</td>\n",
       "      <td>8.2</td>\n",
       "    </tr>\n",
       "    <tr>\n",
       "      <th>4</th>\n",
       "      <td>완벽한 타인</td>\n",
       "      <td>20190418</td>\n",
       "      <td>한국</td>\n",
       "      <td>드라마</td>\n",
       "      <td>2018</td>\n",
       "      <td>유해진\\n조진웅\\n이서진</td>\n",
       "      <td>이재규</td>\n",
       "      <td>8.5</td>\n",
       "    </tr>\n",
       "    <tr>\n",
       "      <th>5</th>\n",
       "      <td>고지전</td>\n",
       "      <td>20190428</td>\n",
       "      <td>한국</td>\n",
       "      <td>전쟁</td>\n",
       "      <td>2011</td>\n",
       "      <td>신하균\\n고수\\n이제훈</td>\n",
       "      <td>장훈</td>\n",
       "      <td>7.1</td>\n",
       "    </tr>\n",
       "    <tr>\n",
       "      <th>...</th>\n",
       "      <td>...</td>\n",
       "      <td>...</td>\n",
       "      <td>...</td>\n",
       "      <td>...</td>\n",
       "      <td>...</td>\n",
       "      <td>...</td>\n",
       "      <td>...</td>\n",
       "      <td>...</td>\n",
       "    </tr>\n",
       "    <tr>\n",
       "      <th>121</th>\n",
       "      <td>유주얼 서스팩트</td>\n",
       "      <td>20211010</td>\n",
       "      <td>미국</td>\n",
       "      <td>범죄</td>\n",
       "      <td>1996</td>\n",
       "      <td>스티븐 볼드윈\\n가브리엘 번</td>\n",
       "      <td>브라이언 싱어</td>\n",
       "      <td>9.8</td>\n",
       "    </tr>\n",
       "    <tr>\n",
       "      <th>122</th>\n",
       "      <td>7번방의 선물</td>\n",
       "      <td>20211102</td>\n",
       "      <td>한국</td>\n",
       "      <td>코미디</td>\n",
       "      <td>2013</td>\n",
       "      <td>류승룡\\n박신혜</td>\n",
       "      <td>이환경</td>\n",
       "      <td>5.0</td>\n",
       "    </tr>\n",
       "    <tr>\n",
       "      <th>123</th>\n",
       "      <td>이프 온리</td>\n",
       "      <td>20211105</td>\n",
       "      <td>미국</td>\n",
       "      <td>로맨스</td>\n",
       "      <td>2004</td>\n",
       "      <td>제니퍼 러브 휴잇\\n폴 니콜스</td>\n",
       "      <td>길 정거</td>\n",
       "      <td>9.4</td>\n",
       "    </tr>\n",
       "    <tr>\n",
       "      <th>124</th>\n",
       "      <td>소울</td>\n",
       "      <td>20211107</td>\n",
       "      <td>미국</td>\n",
       "      <td>애니메이션</td>\n",
       "      <td>2021</td>\n",
       "      <td>NaN</td>\n",
       "      <td>피트 닥터</td>\n",
       "      <td>8.8</td>\n",
       "    </tr>\n",
       "    <tr>\n",
       "      <th>125</th>\n",
       "      <td>위대한 쇼맨</td>\n",
       "      <td>20211114</td>\n",
       "      <td>미국</td>\n",
       "      <td>드라마</td>\n",
       "      <td>2017</td>\n",
       "      <td>휴 잭맨\\n잭 에프론</td>\n",
       "      <td>마이클 그레이시</td>\n",
       "      <td>8.7</td>\n",
       "    </tr>\n",
       "  </tbody>\n",
       "</table>\n",
       "<p>125 rows × 8 columns</p>\n",
       "</div>"
      ],
      "text/plain": [
       "           제목        날짜  국가     장르  개봉연도                          주연  \\\n",
       "번호                                                                     \n",
       "1        트루먼쇼  20190327  미국    코미디  1998                        짐 캐리   \n",
       "2        패신져스  20190330  미국     SF  2017             제니퍼 로렌스\\n크리스 프랫   \n",
       "3         라이프  20190411  미국     SF  2017  제이크 질렌할\\n레베카 퍼거슨\\n라이언 레이놀즈   \n",
       "4      완벽한 타인  20190418  한국    드라마  2018               유해진\\n조진웅\\n이서진   \n",
       "5         고지전  20190428  한국     전쟁  2011                신하균\\n고수\\n이제훈   \n",
       "..        ...       ...  ..    ...   ...                         ...   \n",
       "121  유주얼 서스팩트  20211010  미국     범죄  1996             스티븐 볼드윈\\n가브리엘 번   \n",
       "122   7번방의 선물  20211102  한국    코미디  2013                    류승룡\\n박신혜   \n",
       "123     이프 온리  20211105  미국    로맨스  2004            제니퍼 러브 휴잇\\n폴 니콜스   \n",
       "124        소울  20211107  미국  애니메이션  2021                         NaN   \n",
       "125    위대한 쇼맨  20211114  미국    드라마  2017                 휴 잭맨\\n잭 에프론   \n",
       "\n",
       "            감독   평점  \n",
       "번호                   \n",
       "1        피터 위어  9.3  \n",
       "2        모튼 틸덤  9.0  \n",
       "3    다니엘 에스피노사  8.2  \n",
       "4          이재규  8.5  \n",
       "5           장훈  7.1  \n",
       "..         ...  ...  \n",
       "121    브라이언 싱어  9.8  \n",
       "122        이환경  5.0  \n",
       "123       길 정거  9.4  \n",
       "124      피트 닥터  8.8  \n",
       "125   마이클 그레이시  8.7  \n",
       "\n",
       "[125 rows x 8 columns]"
      ]
     },
     "execution_count": 3,
     "metadata": {},
     "output_type": "execute_result"
    }
   ],
   "source": [
    "df = pd.read_excel('./movie.xlsx',index_col='번호')\n",
    "df"
   ]
  },
  {
   "cell_type": "code",
   "execution_count": 4,
   "metadata": {},
   "outputs": [
    {
     "data": {
      "text/html": [
       "<div>\n",
       "<style scoped>\n",
       "    .dataframe tbody tr th:only-of-type {\n",
       "        vertical-align: middle;\n",
       "    }\n",
       "\n",
       "    .dataframe tbody tr th {\n",
       "        vertical-align: top;\n",
       "    }\n",
       "\n",
       "    .dataframe thead th {\n",
       "        text-align: right;\n",
       "    }\n",
       "</style>\n",
       "<table border=\"1\" class=\"dataframe\">\n",
       "  <thead>\n",
       "    <tr style=\"text-align: right;\">\n",
       "      <th></th>\n",
       "      <th>날짜</th>\n",
       "      <th>개봉연도</th>\n",
       "      <th>평점</th>\n",
       "    </tr>\n",
       "    <tr>\n",
       "      <th>장르</th>\n",
       "      <th></th>\n",
       "      <th></th>\n",
       "      <th></th>\n",
       "    </tr>\n",
       "  </thead>\n",
       "  <tbody>\n",
       "    <tr>\n",
       "      <th>SF</th>\n",
       "      <td>2.019547e+07</td>\n",
       "      <td>2018.250000</td>\n",
       "      <td>7.300000</td>\n",
       "    </tr>\n",
       "    <tr>\n",
       "      <th>공포</th>\n",
       "      <td>2.019654e+07</td>\n",
       "      <td>2015.000000</td>\n",
       "      <td>6.080000</td>\n",
       "    </tr>\n",
       "    <tr>\n",
       "      <th>드라마</th>\n",
       "      <td>2.019539e+07</td>\n",
       "      <td>2014.450000</td>\n",
       "      <td>7.692500</td>\n",
       "    </tr>\n",
       "    <tr>\n",
       "      <th>로맨스</th>\n",
       "      <td>2.019911e+07</td>\n",
       "      <td>2009.791667</td>\n",
       "      <td>8.931250</td>\n",
       "    </tr>\n",
       "    <tr>\n",
       "      <th>모험</th>\n",
       "      <td>2.019550e+07</td>\n",
       "      <td>2013.000000</td>\n",
       "      <td>8.050000</td>\n",
       "    </tr>\n",
       "    <tr>\n",
       "      <th>미스터리</th>\n",
       "      <td>2.019091e+07</td>\n",
       "      <td>2018.000000</td>\n",
       "      <td>6.800000</td>\n",
       "    </tr>\n",
       "    <tr>\n",
       "      <th>범죄</th>\n",
       "      <td>2.019565e+07</td>\n",
       "      <td>2010.588235</td>\n",
       "      <td>7.870588</td>\n",
       "    </tr>\n",
       "    <tr>\n",
       "      <th>스릴러</th>\n",
       "      <td>2.020079e+07</td>\n",
       "      <td>2013.600000</td>\n",
       "      <td>8.140000</td>\n",
       "    </tr>\n",
       "    <tr>\n",
       "      <th>애니메이션</th>\n",
       "      <td>2.020182e+07</td>\n",
       "      <td>2016.555556</td>\n",
       "      <td>8.688889</td>\n",
       "    </tr>\n",
       "    <tr>\n",
       "      <th>액션</th>\n",
       "      <td>2.019705e+07</td>\n",
       "      <td>2016.666667</td>\n",
       "      <td>7.830952</td>\n",
       "    </tr>\n",
       "    <tr>\n",
       "      <th>전쟁</th>\n",
       "      <td>2.019543e+07</td>\n",
       "      <td>2012.500000</td>\n",
       "      <td>7.450000</td>\n",
       "    </tr>\n",
       "    <tr>\n",
       "      <th>코미디</th>\n",
       "      <td>2.020065e+07</td>\n",
       "      <td>2013.692308</td>\n",
       "      <td>7.757692</td>\n",
       "    </tr>\n",
       "    <tr>\n",
       "      <th>판타지</th>\n",
       "      <td>2.019572e+07</td>\n",
       "      <td>2013.500000</td>\n",
       "      <td>6.500000</td>\n",
       "    </tr>\n",
       "  </tbody>\n",
       "</table>\n",
       "</div>"
      ],
      "text/plain": [
       "                 날짜         개봉연도        평점\n",
       "장르                                        \n",
       "SF     2.019547e+07  2018.250000  7.300000\n",
       "공포     2.019654e+07  2015.000000  6.080000\n",
       "드라마    2.019539e+07  2014.450000  7.692500\n",
       "로맨스    2.019911e+07  2009.791667  8.931250\n",
       "모험     2.019550e+07  2013.000000  8.050000\n",
       "미스터리   2.019091e+07  2018.000000  6.800000\n",
       "범죄     2.019565e+07  2010.588235  7.870588\n",
       "스릴러    2.020079e+07  2013.600000  8.140000\n",
       "애니메이션  2.020182e+07  2016.555556  8.688889\n",
       "액션     2.019705e+07  2016.666667  7.830952\n",
       "전쟁     2.019543e+07  2012.500000  7.450000\n",
       "코미디    2.020065e+07  2013.692308  7.757692\n",
       "판타지    2.019572e+07  2013.500000  6.500000"
      ]
     },
     "execution_count": 4,
     "metadata": {},
     "output_type": "execute_result"
    }
   ],
   "source": [
    "genre_mean = df.groupby('장르').mean()\n",
    "genre_mean"
   ]
  },
  {
   "cell_type": "code",
   "execution_count": 5,
   "metadata": {},
   "outputs": [
    {
     "data": {
      "text/plain": [
       "<BarContainer object of 13 artists>"
      ]
     },
     "execution_count": 5,
     "metadata": {},
     "output_type": "execute_result"
    },
    {
     "data": {
      "image/png": "[encoded data removed]",
      "text/plain": [
       "<Figure size 432x288 with 1 Axes>"
      ]
     },
     "metadata": {
      "needs_background": "light"
     },
     "output_type": "display_data"
    }
   ],
   "source": [
    "genre_mean.index\n",
    "\n",
    "plt.bar(genre_mean.index,genre_mean['평점'])"
   ]
  },
  {
   "cell_type": "code",
   "execution_count": 6,
   "metadata": {},
   "outputs": [
    {
     "data": {
      "text/plain": [
       "(4.0, 10.0)"
      ]
     },
     "execution_count": 6,
     "metadata": {},
     "output_type": "execute_result"
    },
    {
     "data": {
      "image/png": "[encoded data removed]",
      "text/plain": [
       "<Figure size 720x360 with 1 Axes>"
      ]
     },
     "metadata": {
      "needs_background": "light"
     },
     "output_type": "display_data"
    }
   ],
   "source": [
    "colors=['lightgray','lightsalmon','greenyellow','plum','gold','lightsteelblue','royalblue','palegreen','mediumorchid','lavender','rosybrown','navajowhite','powderblue']\n",
    "\n",
    "plt.figure(figsize=(10,5))\n",
    "plt.bar(genre_mean.index,genre_mean['평점'],color=colors)\n",
    "plt.ylim(4,10)"
   ]
  },
  {
   "cell_type": "code",
   "execution_count": 7,
   "metadata": {},
   "outputs": [
    {
     "data": {
      "image/png": "[encoded data removed]",
      "text/plain": [
       "<Figure size 720x360 with 1 Axes>"
      ]
     },
     "metadata": {
      "needs_background": "light"
     },
     "output_type": "display_data"
    }
   ],
   "source": [
    "plt.figure(figsize=(10,5))\n",
    "plt.title('장르별 평점 평균')\n",
    "\n",
    "plt.bar(genre_mean.index,genre_mean['평점'],color=colors)\n",
    "plt.ylim(4,10)\n",
    "plt.xticks(rotation=45)\n",
    "plt.show()"
   ]
  },
  {
   "cell_type": "code",
   "execution_count": 10,
   "metadata": {},
   "outputs": [
    {
     "data": {
      "image/png": "[encoded data removed]",
      "text/plain": [
       "<Figure size 720x432 with 1 Axes>"
      ]
     },
     "metadata": {
      "needs_background": "light"
     },
     "output_type": "display_data"
    }
   ],
   "source": [
    "plt.figure(figsize=(10,6))\n",
    "plt.bar(genre_mean.index,genre_mean['평점'],color=colors)\n",
    "plt.ylim(4,10)\n",
    "plt.xticks(rotation=45)\n",
    "plt.grid(linestyle = '--',alpha=0.8)\n",
    "plt.title('장르별 평점 평균')\n",
    "\n",
    "plt.show()"
   ]
  }
 ],
 "metadata": {
  "interpreter": {
   "hash": "50558415ac93d9881e18c8c056ce7448705d901c127a568288521ecc940a9623"
  },
  "kernelspec": {
   "display_name": "Python 3.9.7 64-bit (conda)",
   "language": "python",
   "name": "python3"
  },
  "language_info": {
   "codemirror_mode": {
    "name": "ipython",
    "version": 3
   },
   "file_extension": ".py",
   "mimetype": "text/x-python",
   "name": "python",
   "nbconvert_exporter": "python",
   "pygments_lexer": "ipython3",
   "version": "3.9.7"
  },
  "orig_nbformat": 4
 },
 "nbformat": 4,
 "nbformat_minor": 2
}
