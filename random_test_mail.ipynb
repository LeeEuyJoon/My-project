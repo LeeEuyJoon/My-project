{
 "cells": [
  {
   "cell_type": "markdown",
   "metadata": {},
   "source": [
    "# [랜덤 단어 시험지]"
   ]
  },
  {
   "cell_type": "code",
   "execution_count": 13,
   "metadata": {},
   "outputs": [],
   "source": [
    "import numpy as np\n",
    "import pandas as pd"
   ]
  },
  {
   "cell_type": "code",
   "execution_count": 14,
   "metadata": {},
   "outputs": [],
   "source": [
    "# 시험 볼 단어 개수 변경\n",
    "test_size = 30"
   ]
  },
  {
   "cell_type": "code",
   "execution_count": 15,
   "metadata": {},
   "outputs": [
    {
     "data": {
      "text/html": [
       "<div>\n",
       "<style scoped>\n",
       "    .dataframe tbody tr th:only-of-type {\n",
       "        vertical-align: middle;\n",
       "    }\n",
       "\n",
       "    .dataframe tbody tr th {\n",
       "        vertical-align: top;\n",
       "    }\n",
       "\n",
       "    .dataframe thead th {\n",
       "        text-align: right;\n",
       "    }\n",
       "</style>\n",
       "<table border=\"1\" class=\"dataframe\">\n",
       "  <thead>\n",
       "    <tr style=\"text-align: right;\">\n",
       "      <th></th>\n",
       "      <th>단어</th>\n",
       "      <th>뜻</th>\n",
       "    </tr>\n",
       "  </thead>\n",
       "  <tbody>\n",
       "    <tr>\n",
       "      <th>0</th>\n",
       "      <td>vulnerable</td>\n",
       "      <td>상처 입기 쉬운/취약한</td>\n",
       "    </tr>\n",
       "    <tr>\n",
       "      <th>1</th>\n",
       "      <td>depend</td>\n",
       "      <td>의존하다/신뢰하다/~에 달려있다</td>\n",
       "    </tr>\n",
       "    <tr>\n",
       "      <th>2</th>\n",
       "      <td>mandatory</td>\n",
       "      <td>강제의/의무의/필수의/명령의</td>\n",
       "    </tr>\n",
       "    <tr>\n",
       "      <th>3</th>\n",
       "      <td>ambiguous</td>\n",
       "      <td>모호한/다의의</td>\n",
       "    </tr>\n",
       "    <tr>\n",
       "      <th>4</th>\n",
       "      <td>susceptible</td>\n",
       "      <td>영향 받기 쉬운/감염 되기 쉬운/~할 여지가 있는/감수성이 강한</td>\n",
       "    </tr>\n",
       "    <tr>\n",
       "      <th>...</th>\n",
       "      <td>...</td>\n",
       "      <td>...</td>\n",
       "    </tr>\n",
       "    <tr>\n",
       "      <th>295</th>\n",
       "      <td>appease</td>\n",
       "      <td>달래다/진정시키다</td>\n",
       "    </tr>\n",
       "    <tr>\n",
       "      <th>296</th>\n",
       "      <td>tranquility</td>\n",
       "      <td>고요/정적</td>\n",
       "    </tr>\n",
       "    <tr>\n",
       "      <th>297</th>\n",
       "      <td>taciturn</td>\n",
       "      <td>말이 적은</td>\n",
       "    </tr>\n",
       "    <tr>\n",
       "      <th>298</th>\n",
       "      <td>divulge</td>\n",
       "      <td>누설하다/밝히다</td>\n",
       "    </tr>\n",
       "    <tr>\n",
       "      <th>299</th>\n",
       "      <td>disregard</td>\n",
       "      <td>무시하다/소홀히 하다</td>\n",
       "    </tr>\n",
       "  </tbody>\n",
       "</table>\n",
       "<p>300 rows × 2 columns</p>\n",
       "</div>"
      ],
      "text/plain": [
       "              단어                                    뜻\n",
       "0     vulnerable                         상처 입기 쉬운/취약한\n",
       "1         depend                    의존하다/신뢰하다/~에 달려있다\n",
       "2      mandatory                      강제의/의무의/필수의/명령의\n",
       "3      ambiguous                              모호한/다의의\n",
       "4    susceptible  영향 받기 쉬운/감염 되기 쉬운/~할 여지가 있는/감수성이 강한\n",
       "..           ...                                  ...\n",
       "295      appease                            달래다/진정시키다\n",
       "296  tranquility                                고요/정적\n",
       "297     taciturn                                말이 적은\n",
       "298      divulge                             누설하다/밝히다\n",
       "299    disregard                          무시하다/소홀히 하다\n",
       "\n",
       "[300 rows x 2 columns]"
      ]
     },
     "execution_count": 15,
     "metadata": {},
     "output_type": "execute_result"
    }
   ],
   "source": [
    "# 원본 데이터\n",
    "cols = ['단어','뜻']\n",
    "words = pd.read_excel('C:/Users/wds66/Desktop/개인/words.xlsx',header=None)\n",
    "words.columns = cols\n",
    "words"
   ]
  },
  {
   "cell_type": "code",
   "execution_count": 16,
   "metadata": {},
   "outputs": [],
   "source": [
    "# 랜덤 단어 추출\n",
    "num = np.random.randint(0,len(words),test_size)\n",
    "\n",
    "test_paper = words.iloc[num,0]\n",
    "answer_sheet = words.iloc[num,1]\n",
    "# print(test_paper)\n",
    "# print(answer_sheet)"
   ]
  },
  {
   "cell_type": "code",
   "execution_count": 17,
   "metadata": {},
   "outputs": [],
   "source": [
    "# 시험지, 답지 csv 저장\n",
    "test_paper.to_csv('C:/Users/wds66/Desktop/개인/test_paper.csv',encoding='utf-8-sig',index=False,header=False)\n",
    "answer_sheet.to_csv('C:/Users/wds66/Desktop/개인/answer_sheet.csv',encoding='utf-8-sig',index=False,header=False)"
   ]
  },
  {
   "cell_type": "code",
   "execution_count": 25,
   "metadata": {},
   "outputs": [
    {
     "data": {
      "text/plain": [
       "(221, b'2.0.0 closing connection q7sm6092575pfs.37 - gsmtp')"
      ]
     },
     "execution_count": 25,
     "metadata": {},
     "output_type": "execute_result"
    }
   ],
   "source": [
    "import smtplib\n",
    "\n",
    "from email.mime.multipart import MIMEMultipart\n",
    "msg = MIMEMultipart()\n",
    "\n",
    "# 발신자 / 수신자 설정\n",
    "msg['From'] = 'wns6619@gmail.com'\n",
    "msg['To'] = 'wns6619@naver.com'\n",
    "\n",
    "# 세션생성, 로그인\n",
    "s = smtplib.SMTP('smtp.gmail.com', 587)\n",
    "s.starttls()\n",
    "s.login('wns6619@gmail.com', 'ivwrfruohzmzlkgh')\n",
    "\n",
    "# 날짜 설정\n",
    "from email.utils import formatdate\n",
    "msg['Date'] = formatdate(localtime=True)\n",
    "\n",
    "# 제목\n",
    "from email.header import Header\n",
    "msg['Subject'] = Header(s='오늘의 단어 시험~',charset='utf-8')\n",
    "\n",
    "# 본문\n",
    "from email.mime.text import MIMEText\n",
    "body = MIMEText('오늘도 화이팅!!',_charset='utf-8')\n",
    "msg.attach(body)\n",
    "\n",
    "# 첨부파일\n",
    "files = list()\n",
    "files.append('C:/Users/wds66/Desktop/개인/test_paper.csv')\n",
    "files.append('C:/Users/wds66/Desktop/개인/answer_sheet.csv')\n",
    "\n",
    "import os\n",
    "from email.mime.base import MIMEBase\n",
    "from email.encoders import encode_base64\n",
    "for f in files:\n",
    "    part = MIMEBase('application',\"octet-stream\")\n",
    "    part.set_payload(open(f,\"rb\").read())\n",
    "    encode_base64(part)\n",
    "    part.add_header('Content-Disposition','attachment; filename=\"%s\"' % os.path.basename(f))\n",
    "    msg.attach(part)\n",
    "\n",
    "# 발송\n",
    "s.sendmail(\"wns6619@gmail.com\", \"wns6619@naver.com\", msg.as_string())\n",
    "s.quit()"
   ]
  }
 ],
 "metadata": {
  "interpreter": {
   "hash": "50558415ac93d9881e18c8c056ce7448705d901c127a568288521ecc940a9623"
  },
  "kernelspec": {
   "display_name": "Python 3.9.7 64-bit (conda)",
   "language": "python",
   "name": "python3"
  },
  "language_info": {
   "codemirror_mode": {
    "name": "ipython",
    "version": 3
   },
   "file_extension": ".py",
   "mimetype": "text/x-python",
   "name": "python",
   "nbconvert_exporter": "python",
   "pygments_lexer": "ipython3",
   "version": "3.9.7"
  },
  "orig_nbformat": 4
 },
 "nbformat": 4,
 "nbformat_minor": 2
}
